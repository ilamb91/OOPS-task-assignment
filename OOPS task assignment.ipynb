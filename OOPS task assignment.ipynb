{
 "cells": [
  {
   "cell_type": "markdown",
   "id": "e02ec5f3-48e3-47e2-a3c0-204575f20741",
   "metadata": {},
   "source": [
    "Q1, Create a vehicle class with an init method having instance variables as name_of_vehicle, max_speed\n",
    "and average_of_vehicle."
   ]
  },
  {
   "cell_type": "code",
   "execution_count": 1,
   "id": "07ffa125-5ff4-4d4e-81bb-3302d824d697",
   "metadata": {},
   "outputs": [],
   "source": [
    "class vehicle:\n",
    "    \n",
    "    def __init__ (self, name_of_vehicle, max_speed, average_of_vehicle):\n",
    "        self.name_of_vehicle = name_of_vehicle\n",
    "        self.max_speed = max_speed\n",
    "        self.average_of_vehicle = average_of_vehicle\n",
    "    def vehicle_details(self):\n",
    "        return self.name_of_vehicle, self.max_speed, self.average_of_vehicle"
   ]
  },
  {
   "cell_type": "code",
   "execution_count": 3,
   "id": "1fadc853-a014-49a6-8275-b35054b29051",
   "metadata": {},
   "outputs": [],
   "source": [
    "vehicle1 = vehicle (\"maruti\", 200, 20)"
   ]
  },
  {
   "cell_type": "code",
   "execution_count": 4,
   "id": "7a32eda8-976c-4412-8870-8155e6087af7",
   "metadata": {},
   "outputs": [
    {
     "data": {
      "text/plain": [
       "20"
      ]
     },
     "execution_count": 4,
     "metadata": {},
     "output_type": "execute_result"
    }
   ],
   "source": [
    "vehicle1.average_of_vehicle"
   ]
  },
  {
   "cell_type": "code",
   "execution_count": 5,
   "id": "932127f0-0dbd-438d-8ccf-4abb6de49133",
   "metadata": {},
   "outputs": [
    {
     "data": {
      "text/plain": [
       "200"
      ]
     },
     "execution_count": 5,
     "metadata": {},
     "output_type": "execute_result"
    }
   ],
   "source": [
    "vehicle1.max_speed"
   ]
  },
  {
   "cell_type": "code",
   "execution_count": 6,
   "id": "dec86dcd-6c0a-4cbf-983f-d4928c112bba",
   "metadata": {},
   "outputs": [
    {
     "data": {
      "text/plain": [
       "'maruti'"
      ]
     },
     "execution_count": 6,
     "metadata": {},
     "output_type": "execute_result"
    }
   ],
   "source": [
    "vehicle1.name_of_vehicle"
   ]
  },
  {
   "cell_type": "code",
   "execution_count": 8,
   "id": "91bac3bf-40e8-4128-bd30-595c3bb089e1",
   "metadata": {},
   "outputs": [
    {
     "data": {
      "text/plain": [
       "('maruti', 200, 20)"
      ]
     },
     "execution_count": 8,
     "metadata": {},
     "output_type": "execute_result"
    }
   ],
   "source": [
    "vehicle1.vehicle_details()"
   ]
  },
  {
   "cell_type": "markdown",
   "id": "5ba53c49-8a9e-49bf-b9d3-a9443f7883c4",
   "metadata": {},
   "source": [
    "Q2. Create a child class car from the vehicle class created in Que 1, which will inherit the vehicle class.\n",
    "Create a method named seating_capacity which takes capacity as an argument and returns the name of\n",
    "the vehicle and its seating capacity."
   ]
  },
  {
   "cell_type": "code",
   "execution_count": 40,
   "id": "253e82ef-969c-4557-9af8-f04298dbca78",
   "metadata": {},
   "outputs": [
    {
     "name": "stdout",
     "output_type": "stream",
     "text": [
      "The seating capacity of a school bus is 50 passengers\n"
     ]
    }
   ],
   "source": [
    "class vehicle:\n",
    "    \n",
    "    def __init__ (self, name_of_vehicle, max_speed, average_of_vehicle):\n",
    "        self.name_of_vehicle = name_of_vehicle\n",
    "        self.max_speed = max_speed\n",
    "        self.average_of_vehicle = average_of_vehicle\n",
    "    def seating_capacity(self, capacity):\n",
    "        return \"The seating capacity of a school bus is 50 passengers\"\n",
    "\n",
    "class Bus(vehicle):\n",
    "    def seating_capacity(self, capacity=50):\n",
    "        return super().seating_capacity(capacity=50)\n",
    "\n",
    "School_bus = Bus(\"Inova\", 180, 12)\n",
    "print(School_bus.seating_capacity())"
   ]
  },
  {
   "cell_type": "markdown",
   "id": "b30d03d9-bac2-4e03-bb14-6ebfffb77709",
   "metadata": {},
   "source": [
    "Q3. What is multiple inheritance? Write a python code to demonstrate multiple inheritance."
   ]
  },
  {
   "cell_type": "markdown",
   "id": "a7959ab9-7c75-4585-a1ca-2dc10017dea5",
   "metadata": {},
   "source": [
    "A3. - When a class is derived from more than one base class it is called multiple Inheritance."
   ]
  },
  {
   "cell_type": "code",
   "execution_count": 45,
   "id": "2099591f-24d1-4229-ad3f-2af52d48fef7",
   "metadata": {},
   "outputs": [],
   "source": [
    "class class1:\n",
    "    def test_class1 (self) :\n",
    "        return \"this is class1 of MH\""
   ]
  },
  {
   "cell_type": "code",
   "execution_count": 46,
   "id": "05276742-9371-4825-88aa-de43b5a60463",
   "metadata": {},
   "outputs": [],
   "source": [
    "class class2:\n",
    "    def test_class2 (self) :\n",
    "        return \"this is class2 of MH\""
   ]
  },
  {
   "cell_type": "code",
   "execution_count": 47,
   "id": "453513a7-12aa-441c-9b1b-e854449f7d65",
   "metadata": {},
   "outputs": [],
   "source": [
    "class class3(class1, class2):\n",
    "    pass"
   ]
  },
  {
   "cell_type": "code",
   "execution_count": 48,
   "id": "d7b7b112-1ace-4a58-a9e9-aedb5b319c92",
   "metadata": {},
   "outputs": [],
   "source": [
    "obj_class3 = class3()"
   ]
  },
  {
   "cell_type": "code",
   "execution_count": 50,
   "id": "bad2812a-1c83-40f1-93a5-e89725078eb1",
   "metadata": {},
   "outputs": [
    {
     "data": {
      "text/plain": [
       "'this is class2 of MH'"
      ]
     },
     "execution_count": 50,
     "metadata": {},
     "output_type": "execute_result"
    }
   ],
   "source": [
    "obj_class3.test_class2()"
   ]
  },
  {
   "cell_type": "code",
   "execution_count": 51,
   "id": "992cb4ba-cb5a-4042-bcc0-9868fddae15f",
   "metadata": {},
   "outputs": [
    {
     "data": {
      "text/plain": [
       "'this is class1 of MH'"
      ]
     },
     "execution_count": 51,
     "metadata": {},
     "output_type": "execute_result"
    }
   ],
   "source": [
    "obj_class3.test_class1()"
   ]
  },
  {
   "cell_type": "markdown",
   "id": "f806e93d-390c-4d94-9425-ffd133e791b4",
   "metadata": {},
   "source": [
    "Q4. What are getter and setter in python? Create a class and create a getter and a setter method in this\n",
    "class."
   ]
  },
  {
   "cell_type": "markdown",
   "id": "1ab580fd-fadc-4c80-aac5-24fa226faf82",
   "metadata": {},
   "source": [
    "A4. Getter: A method that allows you to access an attribute in a given class. Setter: A method that allows you to set or mutate the value of an attribute in a class."
   ]
  },
  {
   "cell_type": "code",
   "execution_count": 52,
   "id": "74911d36-e1a2-43e3-ae2e-2785ccabd850",
   "metadata": {},
   "outputs": [],
   "source": [
    "class age:\n",
    "    def __init__(self, age = 0):\n",
    "         self._age = age\n",
    "      \n",
    "    def get_age(self):\n",
    "        return self._age\n",
    "      \n",
    "    def set_age(self, x):\n",
    "        self._age = x"
   ]
  },
  {
   "cell_type": "code",
   "execution_count": 53,
   "id": "d7101c06-2c1d-43d2-8fb7-42de13baa82d",
   "metadata": {},
   "outputs": [],
   "source": [
    "lamb = age()"
   ]
  },
  {
   "cell_type": "code",
   "execution_count": 54,
   "id": "2e791ca6-ccfe-4976-a853-7f8685ef88ca",
   "metadata": {},
   "outputs": [],
   "source": [
    "lamb.set_age(31)"
   ]
  },
  {
   "cell_type": "code",
   "execution_count": 56,
   "id": "72edd7b1-4774-49c6-9689-99d7793be8af",
   "metadata": {},
   "outputs": [
    {
     "data": {
      "text/plain": [
       "31"
      ]
     },
     "execution_count": 56,
     "metadata": {},
     "output_type": "execute_result"
    }
   ],
   "source": [
    "lamb.get_age()"
   ]
  },
  {
   "cell_type": "markdown",
   "id": "412e9aca-6d5b-4a93-a326-56f4fa9093e6",
   "metadata": {},
   "source": [
    "Q5.What is method overriding in python? Write a python code to demonstrate method overriding."
   ]
  },
  {
   "cell_type": "markdown",
   "id": "185b0c58-4549-40be-a1e2-697388915da6",
   "metadata": {},
   "source": [
    "A5. Method overriding in Python is when you have two methods with the same name that each perform different tasks."
   ]
  },
  {
   "cell_type": "code",
   "execution_count": 57,
   "id": "c7cd0387-3413-433a-b709-d35776c147f6",
   "metadata": {},
   "outputs": [],
   "source": [
    "class Parent():\n",
    "      \n",
    "    def __init__(self):\n",
    "        self.value = \"Parent\"\n",
    "          \n",
    "    def show(self):\n",
    "        print(self.value)\n",
    "          \n",
    "class Child(Parent):\n",
    "      \n",
    "    def __init__(self):\n",
    "        self.value = \"Child\"\n",
    "          \n",
    "    def show(self):\n",
    "        print(self.value)"
   ]
  },
  {
   "cell_type": "code",
   "execution_count": 58,
   "id": "28e78230-6948-4e37-80ec-91a9d2a1a8df",
   "metadata": {},
   "outputs": [],
   "source": [
    "obj1 = Parent()"
   ]
  },
  {
   "cell_type": "code",
   "execution_count": 59,
   "id": "0d5efae0-31fb-41bf-85a5-e1269e4f62cd",
   "metadata": {},
   "outputs": [],
   "source": [
    "obj2 = Child()"
   ]
  },
  {
   "cell_type": "code",
   "execution_count": 60,
   "id": "261206ed-4690-48d5-ad28-64b40f77d7b4",
   "metadata": {},
   "outputs": [
    {
     "name": "stdout",
     "output_type": "stream",
     "text": [
      "Parent\n"
     ]
    }
   ],
   "source": [
    "obj1.show()"
   ]
  },
  {
   "cell_type": "code",
   "execution_count": 61,
   "id": "7916a664-b595-4073-99cb-22d9bf191cfd",
   "metadata": {},
   "outputs": [
    {
     "name": "stdout",
     "output_type": "stream",
     "text": [
      "Child\n"
     ]
    }
   ],
   "source": [
    "obj2.show()"
   ]
  },
  {
   "cell_type": "code",
   "execution_count": null,
   "id": "8e055b3f-75fe-4cd3-a25d-4a9958852a59",
   "metadata": {},
   "outputs": [],
   "source": []
  }
 ],
 "metadata": {
  "kernelspec": {
   "display_name": "Python 3 (ipykernel)",
   "language": "python",
   "name": "python3"
  },
  "language_info": {
   "codemirror_mode": {
    "name": "ipython",
    "version": 3
   },
   "file_extension": ".py",
   "mimetype": "text/x-python",
   "name": "python",
   "nbconvert_exporter": "python",
   "pygments_lexer": "ipython3",
   "version": "3.10.8"
  }
 },
 "nbformat": 4,
 "nbformat_minor": 5
}
